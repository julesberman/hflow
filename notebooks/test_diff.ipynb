{
 "cells": [
  {
   "cell_type": "code",
   "execution_count": 2,
   "metadata": {},
   "outputs": [
    {
     "name": "stdout",
     "output_type": "stream",
     "text": [
      "The autoreload extension is already loaded. To reload it, use:\n",
      "  %reload_ext autoreload\n"
     ]
    }
   ],
   "source": [
    "%load_ext autoreload\n",
    "%autoreload 2"
   ]
  },
  {
   "cell_type": "code",
   "execution_count": 3,
   "metadata": {},
   "outputs": [],
   "source": [
    "from jax import vmap, jit\n",
    "import jax.numpy as jnp\n",
    "from pathlib import Path\n",
    "import numpy as np\n",
    "from einops import rearrange\n",
    "import jax\n",
    "import matplotlib.pyplot as plt\n"
   ]
  },
  {
   "cell_type": "code",
   "execution_count": 4,
   "metadata": {},
   "outputs": [
    {
     "data": {
      "text/plain": [
       "(51.22869590700778, 51.22869590700807, -5.548005649411022e-15)"
      ]
     },
     "execution_count": 4,
     "metadata": {},
     "output_type": "execute_result"
    }
   ],
   "source": [
    "N = 1_000\n",
    "A = np.random.uniform(0,1,size=N)*100\n",
    "c1 = np.sum(np.diff(A))\n",
    "c2 = A[-1] - A[0]\n",
    "err = (c1-c2)/(c2)\n",
    "c1, c2, err"
   ]
  },
  {
   "cell_type": "code",
   "execution_count": 5,
   "metadata": {},
   "outputs": [
    {
     "data": {
      "text/plain": [
       "(Array(37.84372, dtype=float32),\n",
       " Array(37.843845, dtype=float32),\n",
       " Array(-3.3264328e-06, dtype=float32))"
      ]
     },
     "execution_count": 5,
     "metadata": {},
     "output_type": "execute_result"
    }
   ],
   "source": [
    "N = 1_000\n",
    "A = np.random.uniform(0,1,size=N)*100\n",
    "A = jnp.asarray(A)\n",
    "c1 = jnp.sum(jnp.diff(A))\n",
    "c2 = A[-1] - A[0]\n",
    "err = (c1-c2)/(c2)\n",
    "c1, c2, err"
   ]
  },
  {
   "cell_type": "code",
   "execution_count": 10,
   "metadata": {},
   "outputs": [
    {
     "data": {
      "text/plain": [
       "(Array(-0.14288783, dtype=float32),\n",
       " Array(-0.14288783, dtype=float32),\n",
       " Array(-0., dtype=float32))"
      ]
     },
     "execution_count": 10,
     "metadata": {},
     "output_type": "execute_result"
    }
   ],
   "source": [
    "from hflow.net.build import build_mlp\n",
    "from jax import vmap, grad, jit\n",
    "u_config = {'width': 55,\n",
    "            'layers': ['D']*7,\n",
    "            'activation': 'swish'}\n",
    "\n",
    "key = jax.random.key(np.random.randint(1e7))\n",
    "u_fn, params = build_mlp(u_config, in_dim=1, out_dim=1, key=key)\n",
    "u_fn_V = vmap(u_fn, (None, 0))\n",
    "\n",
    "@jit\n",
    "def loss_1(params, X):\n",
    "    Y = u_fn_V(params, X)\n",
    "    l = jnp.sum(Y[1:] - Y[:-1])\n",
    "    return l\n",
    "@jit\n",
    "def loss_2(params, X):\n",
    "    Y = u_fn_V(params, X)\n",
    "    Y = jnp.squeeze(Y)\n",
    "    l = Y[-1] - Y[0]\n",
    "    return l\n",
    "\n",
    "N = 5000\n",
    "X = np.random.uniform(0,1,size=(N, 1))*10\n",
    "X = np.linspace(-4,10,N)\n",
    "X = jnp.asarray(X).reshape(-1,1)\n",
    "\n",
    "\n",
    "\n",
    "l1 = loss_1(params, X)\n",
    "l2 = loss_2(params, X)\n",
    "err = (l1-l2)/(l2)\n",
    "l1, l2, err"
   ]
  },
  {
   "cell_type": "code",
   "execution_count": 11,
   "metadata": {},
   "outputs": [
    {
     "data": {
      "text/plain": [
       "Array(0., dtype=float32)"
      ]
     },
     "execution_count": 11,
     "metadata": {},
     "output_type": "execute_result"
    }
   ],
   "source": [
    "g1 = grad(loss_1)(params, X)\n",
    "g2 = grad(loss_2)(params, X)\n",
    "g1 = jax.flatten_util.ravel_pytree(g1)[0]\n",
    "g2 = jax.flatten_util.ravel_pytree(g2)[0]\n",
    "(g1 - g2).sum()"
   ]
  },
  {
   "cell_type": "code",
   "execution_count": null,
   "metadata": {},
   "outputs": [],
   "source": []
  },
  {
   "cell_type": "code",
   "execution_count": null,
   "metadata": {},
   "outputs": [],
   "source": []
  },
  {
   "cell_type": "code",
   "execution_count": null,
   "metadata": {},
   "outputs": [],
   "source": []
  },
  {
   "cell_type": "code",
   "execution_count": null,
   "metadata": {},
   "outputs": [],
   "source": []
  },
  {
   "cell_type": "code",
   "execution_count": null,
   "metadata": {},
   "outputs": [],
   "source": []
  }
 ],
 "metadata": {
  "kernelspec": {
   "display_name": "Python 3 (ipykernel)",
   "language": "python",
   "name": "python3"
  },
  "language_info": {
   "codemirror_mode": {
    "name": "ipython",
    "version": 3
   },
   "file_extension": ".py",
   "mimetype": "text/x-python",
   "name": "python",
   "nbconvert_exporter": "python",
   "pygments_lexer": "ipython3",
   "version": "3.10.14"
  }
 },
 "nbformat": 4,
 "nbformat_minor": 2
}
