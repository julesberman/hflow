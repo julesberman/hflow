{
 "cells": [
  {
   "cell_type": "code",
   "execution_count": 1,
   "metadata": {},
   "outputs": [],
   "source": [
    "\n",
    "%load_ext autoreload\n",
    "%autoreload 2"
   ]
  },
  {
   "cell_type": "code",
   "execution_count": 2,
   "metadata": {},
   "outputs": [],
   "source": [
    "from jax import vmap, jit\n",
    "import jax.numpy as jnp\n",
    "from pathlib import Path\n",
    "import numpy as np\n",
    "from einops import rearrange\n",
    "import jax\n",
    "import matplotlib.pyplot as plt\n",
    "import seaborn as sns\n",
    "from hflow.misc.plot import scatter_movie, imshow_movie, plot_grid_movie\n",
    "from hflow.misc.jax import randkey\n",
    "from hflow.net.resnet import ResNeSt50FastSmall, ResNet18"
   ]
  },
  {
   "cell_type": "code",
   "execution_count": null,
   "metadata": {},
   "outputs": [],
   "source": [
    "from hflow.data.rwave import get_wave_random_media\n",
    "sigma = 0\n",
    "n_x = 128\n",
    "n_t = 128\n",
    "sub_x = 4\n",
    "sub_t = 1\n",
    "n_samples = 200\n",
    "key = randkey()\n",
    "sols = get_wave_random_media(\n",
    "    n_samples, n_t, n_x, key, batch_size=32, sigma=sigma\n",
    ")\n",
    "sols = sols[:, ::sub_t, ::sub_x, ::sub_x]\n",
    "t_eval = np.linspace(0.0, 1.0, sols.shape[1])\n",
    "train_mus = np.asarray([0.0])\n",
    "test_mus = np.asarray([0.0])\n",
    "mus = np.concatenate([train_mus, test_mus])\n",
    "sols = jnp.concatenate([sols[None], sols[None]])"
   ]
  },
  {
   "cell_type": "code",
   "execution_count": 4,
   "metadata": {},
   "outputs": [
    {
     "name": "stdout",
     "output_type": "stream",
     "text": [
      "n_params 273,025\n"
     ]
    },
    {
     "name": "stderr",
     "output_type": "stream",
     "text": [
      "/tmp/scratch/7607511/ipykernel_183114/3049961609.py:12: DeprecationWarning: jax.tree_leaves is deprecated: use jax.tree.leaves (jax v0.4.25 or newer) or jax.tree_util.tree_leaves (any JAX version).\n",
      "  param_count = sum(x.size for x in jax.tree_leaves(params_init))\n"
     ]
    },
    {
     "data": {
      "text/plain": [
       "(1,)"
      ]
     },
     "execution_count": 4,
     "metadata": {},
     "output_type": "execute_result"
    }
   ],
   "source": [
    "net = ResNeSt50FastSmall(n_classes=1, hidden_sizes=[16,32,64])\n",
    "xx =  jnp.ones((4, 32, 32, 3))\n",
    "key = randkey()\n",
    "\n",
    "x_dim = 32 * 32\n",
    "mu_t_dim = 2\n",
    "x_in = jnp.zeros(x_dim)\n",
    "cond_x = jnp.zeros(mu_t_dim)\n",
    "\n",
    "params_init = net.init(key, x_in, cond_x)\n",
    "\n",
    "param_count = sum(x.size for x in jax.tree_leaves(params_init))\n",
    "print(f\"n_params {param_count:,}\")\n",
    "\n",
    "out = net.apply(params_init, x_in, cond_x, mutable=False)  \n",
    "out.shape"
   ]
  },
  {
   "cell_type": "code",
   "execution_count": null,
   "metadata": {},
   "outputs": [],
   "source": [
    "32*32"
   ]
  },
  {
   "cell_type": "code",
   "execution_count": null,
   "metadata": {},
   "outputs": [],
   "source": [
    "sols = rearrange(sols, 'M N T X Y -> ')"
   ]
  },
  {
   "cell_type": "code",
   "execution_count": null,
   "metadata": {},
   "outputs": [],
   "source": [
    "plot_grid_movie(sols[:9])"
   ]
  },
  {
   "cell_type": "code",
   "execution_count": null,
   "metadata": {},
   "outputs": [],
   "source": [
    "from hflow.misc.plot import scatter_movie\n",
    "\n",
    "\n",
    "scatter_movie(sols[7])"
   ]
  },
  {
   "cell_type": "code",
   "execution_count": null,
   "metadata": {},
   "outputs": [],
   "source": [
    "from hflow.run import build\n",
    "from hflow.io.load import load_single\n",
    "\n",
    "cfg, df = load_single('ip', 'ONmD_174258532272')\n",
    "    \n",
    "key, train_data, test_data, loss_fn, arg_fn, s_fn, params_init = build(cfg)"
   ]
  },
  {
   "cell_type": "code",
   "execution_count": null,
   "metadata": {},
   "outputs": [],
   "source": [
    "df['train_mus_raw']"
   ]
  },
  {
   "cell_type": "code",
   "execution_count": null,
   "metadata": {},
   "outputs": [],
   "source": [
    "from hflow.misc.jax import randkey\n",
    "\n",
    "sols_sample, mu_sample, t_sample, quad_weights = arg_fn(randkey())"
   ]
  },
  {
   "cell_type": "code",
   "execution_count": null,
   "metadata": {},
   "outputs": [],
   "source": [
    "(mu_shift, mu_scale) = df ['mu_norm'] \n",
    "\n",
    "train_mus , (mu_sample * mu_scale) + mu_shift"
   ]
  },
  {
   "cell_type": "code",
   "execution_count": null,
   "metadata": {},
   "outputs": [],
   "source": [
    "plt.plot(t_sample)\n",
    "plt.show()"
   ]
  },
  {
   "cell_type": "code",
   "execution_count": null,
   "metadata": {},
   "outputs": [],
   "source": [
    "sols_sample.shape"
   ]
  },
  {
   "cell_type": "code",
   "execution_count": null,
   "metadata": {},
   "outputs": [],
   "source": [
    "scatter_movie(sols_sample)"
   ]
  },
  {
   "cell_type": "code",
   "execution_count": null,
   "metadata": {},
   "outputs": [],
   "source": []
  }
 ],
 "metadata": {
  "kernelspec": {
   "display_name": "Python 3 (ipykernel)",
   "language": "python",
   "name": "python3"
  },
  "language_info": {
   "codemirror_mode": {
    "name": "ipython",
    "version": 3
   },
   "file_extension": ".py",
   "mimetype": "text/x-python",
   "name": "python",
   "nbconvert_exporter": "python",
   "pygments_lexer": "ipython3",
   "version": "3.11.4"
  }
 },
 "nbformat": 4,
 "nbformat_minor": 2
}
